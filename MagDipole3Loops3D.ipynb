{
 "cells": [
  {
   "cell_type": "markdown",
   "metadata": {},
   "source": [
    "# MagDipole3Loops3D\n",
    "### An 3D visualization notebook application for learning the conpect of magnetic flux  linkage in the 3-loop model for EM induction method\n",
    "\n",
    "* Plot loop wire paths and the dipole directions in 3D\n",
    "* Plot the primary and secondary magnetic field lines from the transmitter and target loop in 3D\n",
    "* Explore how the three loops interact through magnetic flux linkage in 3D\n",
    "* \"Run All\" to get the default result for Loop 1 being the transmitterm, Loop 2 being the target and Loop 3 being the receiver\n",
    "* Plot many loops and lines the way you like by changing the plotting codes\n",
    "\n",
    "**Bugs and improvement: yangdikun@gmail.com**\n"
   ]
  },
  {
   "cell_type": "markdown",
   "metadata": {},
   "source": [
    "## Import packages\n",
    "* Note the 3D plotting requires **plotly**"
   ]
  },
  {
   "cell_type": "code",
   "execution_count": null,
   "metadata": {
    "collapsed": true
   },
   "outputs": [],
   "source": [
    "import numpy as np\n",
    "from ipywidgets import interact, interactive, fixed, Layout\n",
    "import ipywidgets as widgets"
   ]
  },
  {
   "cell_type": "code",
   "execution_count": null,
   "metadata": {},
   "outputs": [],
   "source": [
    "import plotly.plotly as py\n",
    "import plotly.graph_objs as go\n",
    "from plotly import __version__\n",
    "from plotly.offline import download_plotlyjs, init_notebook_mode, plot, iplot\n",
    "print(__version__) # requires version >= 1.9.0\n",
    "init_notebook_mode(connected=True)"
   ]
  },
  {
   "cell_type": "markdown",
   "metadata": {},
   "source": [
    "## Function definitions\n",
    "* VerticalMagneticDipoleField: Calculate the magnetic flux intensity (B field) from a vertical magnetic dipole (a horizontal loop) at the origin\n",
    "* VerticalMagneticDipoleLine: Calculate the paths of B field lines from a vertical magnetic dipole at the origin\n",
    "* MagneticDipoleLine: Calculate the paths of B field lines from a magnetic dipole with an arbitrary orientation and location.\n",
    "* MagneticDipoleLoop: Calculate the paths of an arbitrarily oriented and located loop and its normal direction."
   ]
  },
  {
   "cell_type": "code",
   "execution_count": null,
   "metadata": {
    "collapsed": true
   },
   "outputs": [],
   "source": [
    "# x, y, z: location of the observing point\n",
    "# Bx, By, Bz: vector B field at the observing point in vaccum\n",
    "def VerticalMagneticDipoleField(x, y, z):\n",
    "    r = (x**2 + y**2 + z**2)**(0.5)\n",
    "    Bx = 1e-7/r**3 * 3*x*z/r**2\n",
    "    By = 1e-7/r**3 * 3*y*z/r**2\n",
    "    Bz = 1e-7/r**3 * (3*z**2/r**2 - 1)\n",
    "    return Bx, By, Bz\n",
    "        "
   ]
  },
  {
   "cell_type": "code",
   "execution_count": null,
   "metadata": {
    "collapsed": true
   },
   "outputs": [],
   "source": [
    "# radius: a float defining how far the field lines expand\n",
    "# stepSize: length of the segments that make the field lines\n",
    "# yloc, zloc: a single field line path in the y-z plane\n",
    "def VerticalMagneticDipoleLine(radius,stepSize=1.):\n",
    "    x, y, z = 0., [radius], [-stepSize/4.]\n",
    "    while (y[-1]>=0.) & (z[-1] <= 0.):\n",
    "        _, By, Bz = VerticalMagneticDipoleField(x, y[-1], z[-1])\n",
    "        B = (By**2 + Bz**2)**(0.5)\n",
    "        By, Bz = By/B*stepSize, Bz/B*stepSize\n",
    "        y.append(y[-1]+By)\n",
    "        z.append(z[-1]+Bz)\n",
    "    y.pop()\n",
    "    z.pop()\n",
    "    yloc = np.r_[y[-1:0:-1], y]\n",
    "    zloc = np.r_[-np.array(z[-1:0:-1]),z]\n",
    "    return yloc, zloc\n",
    "    "
   ]
  },
  {
   "cell_type": "code",
   "execution_count": null,
   "metadata": {
    "collapsed": true
   },
   "outputs": [],
   "source": [
    "# dipoleLoc: (x,y,z) of a magnetic dipole\n",
    "# dipoleDec, dipoleInc: declination and inclination angles of the dipole direction in degree\n",
    "# radii: a float vector defining the radii of the field line shells\n",
    "# naz: number of azimuths for the plotting of field lines\n",
    "# stepSize: length of the segments that make the field lines\n",
    "# xloc, yloc, zloc: a collection of all field line paths \n",
    "def MagneticDipoleLine(dipoleLoc,dipoleDec,dipoleInc,radii,naz=10,stepSize=1.):\n",
    "    x0, y0, z0 = dipoleLoc[0], dipoleLoc[1], dipoleLoc[2]\n",
    "    \n",
    "    # rotation matrix\n",
    "    theta, alpha = -np.pi*(dipoleInc+90.)/180., -np.pi*dipoleDec/180.\n",
    "    Rx = np.array([[1.,0.,0.],[0.,np.cos(theta),-np.sin(theta)],[0.,np.sin(theta),np.cos(theta)]])\n",
    "    Rz = np.array([[np.cos(alpha),-np.sin(alpha),0.],[np.sin(alpha),np.cos(alpha),0.],[0.,0.,1.]])\n",
    "    R = np.dot(Rz,Rx) # Rz @ Rx\n",
    "\n",
    "    azimuth = np.linspace(0.,2*np.pi,num=naz,endpoint=False)\n",
    "    xloc, yloc, zloc = [], [], []\n",
    "    for r in radii:\n",
    "        hloc, vloc = VerticalMagneticDipoleLine(r,stepSize)\n",
    "        for a in azimuth:\n",
    "            x, y, z = np.sin(a)*hloc, np.cos(a)*hloc, vloc\n",
    "            xyz = np.dot(R, np.vstack((x,y,z)))\n",
    "            xloc.append(xyz[0]+x0)\n",
    "            yloc.append(xyz[1]+y0)\n",
    "            zloc.append(xyz[2]+z0)\n",
    "    return xloc, yloc, zloc"
   ]
  },
  {
   "cell_type": "code",
   "execution_count": null,
   "metadata": {
    "collapsed": true
   },
   "outputs": [],
   "source": [
    "# dipoleLoc: (x,y,z) of a magnetic dipole\n",
    "# dipoleDec, dipoleInc: declination and inclination angles of the dipole direction in degree\n",
    "# radius: radius of loop surface\n",
    "# nseg: number of line segments that make a loop\n",
    "# xloc, yloc, zloc: a collection of line paths for a loop and its normal direction\n",
    "def MagneticDipoleLoop(dipoleLoc,dipoleDec,dipoleInc,radius,nseg=20):\n",
    "    x0, y0, z0 = dipoleLoc[0], dipoleLoc[1], dipoleLoc[2]\n",
    "    \n",
    "    # rotation matrix\n",
    "    theta, alpha = -np.pi*(dipoleInc+90.)/180., -np.pi*dipoleDec/180.\n",
    "    Rx = np.array([[1.,0.,0.],[0.,np.cos(theta),-np.sin(theta)],[0.,np.sin(theta),np.cos(theta)]])\n",
    "    Rz = np.array([[np.cos(alpha),-np.sin(alpha),0.],[np.sin(alpha),np.cos(alpha),0.],[0.,0.,1.]])\n",
    "    R = np.dot(Rz,Rx) # Rz @ Rx\n",
    "    # loop path\n",
    "    azimuth = np.linspace(0.,2*np.pi,num=nseg+1,endpoint=True)\n",
    "    x, y, z = np.sin(azimuth)*radius, np.cos(azimuth)*radius, azimuth*0.\n",
    "    xyz = np.dot(R, np.vstack((x,y,z)))\n",
    "    xloc1, yloc1, zloc1 = xyz[0]+x0, xyz[1]+y0, xyz[2]+z0\n",
    "    # normal direction pointer\n",
    "    x, y, z = [0.,0.],[0.,0.],[0.,radius]\n",
    "    xyz = np.dot(R, np.vstack((x,y,z)))\n",
    "    xloc2, yloc2, zloc2 = xyz[0]+x0, xyz[1]+y0, xyz[2]+z0\n",
    "    return [xloc1,xloc2], [yloc1,yloc2], [zloc1,zloc2]\n",
    "    "
   ]
  },
  {
   "cell_type": "markdown",
   "metadata": {},
   "source": [
    "## Plotting code\n",
    "* Loop 1 (red) for transmitter, Loop 2 (green) for target, Loop 3 (blue) for recevier\n",
    "* Wire paths of Loop 1, 2 & 3 and the normals (dipole direction) defined by inc and dec\n",
    "* Magnetic field lines around the dipole from Loop 1 (primary field) and Loop 2 (secondary field)\n",
    "* Choose what to plot: disable the loops you do not want to see\n",
    "* X for Easting, Y for Northing, Z for Elevation"
   ]
  },
  {
   "cell_type": "code",
   "execution_count": null,
   "metadata": {},
   "outputs": [],
   "source": [
    "# <<< Control Parameters: Change these numbers to visualize different scenarios \n",
    "loopRadius = 0.5 # <<< radius of loop wires\n",
    "stepSize = 0.2 # <<< length of line segments for plotting lines\n",
    "nazimuth = 4 # <<< number of azimuths for plotting field lines\n",
    "\n",
    "# define Loop 1 parameters\n",
    "x1, y1, z1 = -2.0, 0.0, 0.0 # <<< location\n",
    "dec1, inc1 = 0.0, -90.0 # <<< declination & inclination in degree\n",
    "line1Radii = [3.0, 3.8] # <<< field lines are everywhere in space but we only plot a few layers specified by radii\n",
    "enabled1 = True # <<< True or False to turn on or off the display of Loop 1\n",
    "\n",
    "# define Loop 2 parameters\n",
    "x2, y2, z2 = 0.0, 0.0, -1.0 # <<< location\n",
    "dec2, inc2 = 90.0, 0.0 # <<< declination & inclination in degree\n",
    "line2Radii = [12.0] # <<< field lines are everywhere in space but we only plot a few layers specified by radii\n",
    "enabled2 = True # <<< True or False to turn on or off the display of Loop 2\n",
    "\n",
    "# define Loop 3 parameters\n",
    "x3, y3, z3 = 2.0, 0.0, 0.0 # <<< location\n",
    "dec3, inc3 = 0.0, -90.0 # <<< declination & inclination in degree\n",
    "enabled3 = True # <<< True or False to turn on or off the display of Loop 3\n",
    "\n",
    "\n",
    "# Plotting Commands Below\n",
    "\n",
    "# get line path for the 3 loops\n",
    "loopx1, loopy1, loopz1 = MagneticDipoleLoop((x1,y1,z1),dec1,inc1,loopRadius)\n",
    "loopx2, loopy2, loopz2 = MagneticDipoleLoop((x2,y2,z2),dec2,inc2,loopRadius)\n",
    "loopx3, loopy3, loopz3 = MagneticDipoleLoop((x3,y3,z3),dec3,inc3,loopRadius)\n",
    "\n",
    "# get line path for the field lines of loop 1 and 2\n",
    "linex1, liney1, linez1 = MagneticDipoleLine((x1,y1,z1),dec1,inc1,line1Radii,nazimuth,stepSize)\n",
    "linex2, liney2, linez2 = MagneticDipoleLine((x2,y2,z2),dec2,inc2,line2Radii,nazimuth,stepSize)\n",
    "\n",
    "# create plot\n",
    "data = []\n",
    "if enabled1:\n",
    "    for xx,yy,zz in zip(loopx1,loopy1,loopz1):\n",
    "        data.append(go.Scatter3d(x=xx, y=yy, z=zz, mode='lines', line=dict(color='red',width=3)))\n",
    "    for xx,yy,zz in zip(linex1,liney1,linez1):\n",
    "        data.append(go.Scatter3d(x=xx, y=yy, z=zz, mode='lines', line=dict(color='red',width=5)))\n",
    "if enabled2:\n",
    "    for xx,yy,zz in zip(loopx2,loopy2,loopz2):\n",
    "        data.append(go.Scatter3d(x=xx, y=yy, z=zz, mode='lines', line=dict(color='green',width=3)))\n",
    "    for xx,yy,zz in zip(linex2,liney2,linez2):\n",
    "        data.append(go.Scatter3d(x=xx, y=yy, z=zz, mode='lines', line=dict(color='green',width=5)))\n",
    "if enabled3:\n",
    "    for xx,yy,zz in zip(loopx3,loopy3,loopz3):\n",
    "        data.append(go.Scatter3d(x=xx, y=yy, z=zz, mode='lines', line=dict(color='blue',width=3)))\n",
    "layout = dict(width=1000, height=500, autosize=False, showlegend=False, \n",
    "              margin=go.Margin(l=5,r=5,b=5,t=5,pad=4),paper_bgcolor='#efefef',\n",
    "              scene = dict(aspectmode = 'data', aspectratio = dict(x=1, y=1, z=1),\n",
    "                      camera = dict(up=dict(x=0,y=0,z=1),center=dict(x=0,y=0,z=0),eye=dict(x=0.1,y=-0.5,z=0.2)))\n",
    "             )\n",
    "fig = dict(data=data, layout=layout)\n",
    "iplot(fig)\n"
   ]
  },
  {
   "cell_type": "code",
   "execution_count": null,
   "metadata": {
    "collapsed": true
   },
   "outputs": [],
   "source": []
  }
 ],
 "metadata": {
  "kernelspec": {
   "display_name": "Python 3",
   "language": "python",
   "name": "python3"
  },
  "language_info": {
   "codemirror_mode": {
    "name": "ipython",
    "version": 3
   },
   "file_extension": ".py",
   "mimetype": "text/x-python",
   "name": "python",
   "nbconvert_exporter": "python",
   "pygments_lexer": "ipython3",
   "version": "3.6.2"
  }
 },
 "nbformat": 4,
 "nbformat_minor": 2
}
